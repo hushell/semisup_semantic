{
 "cells": [
  {
   "cell_type": "code",
   "execution_count": 1,
   "metadata": {
    "collapsed": true
   },
   "outputs": [],
   "source": [
    "import re\n",
    "import os\n",
    "import numpy as np\n",
    "import pandas as pd"
   ]
  },
  {
   "cell_type": "code",
   "execution_count": 2,
   "metadata": {
    "collapsed": true
   },
   "outputs": [],
   "source": [
    "from matplotlib import pyplot as plt\n",
    "import seaborn as sns\n",
    "%matplotlib inline"
   ]
  },
  {
   "cell_type": "code",
   "execution_count": 3,
   "metadata": {
    "collapsed": true
   },
   "outputs": [],
   "source": [
    "class opt:\n",
    "    niter = 300\n",
    "    lr = 0.0002\n",
    "    drop_lr = 5\n",
    "    beta1 = 0.5\n",
    "    niter_decay = 100\n",
    "    dataset = 'cityscapesAB'\n",
    "    which_direction = 'AtoB'\n",
    "    resize_or_crop = 'crop'\n",
    "    no_flip = False\n",
    "    ignore_index = 0\n",
    "    unsup_portion = 89\n",
    "    portion_total = 90\n",
    "    unsup_sampler = 'sep'\n",
    "    name = 'xyx'\n",
    "    checkpoints_dir = 'checkpoints'\n",
    "    save_every = 2\n",
    "    manual_seed = 123\n",
    "    start_epoch = 0\n",
    "    nThreads = 4\n",
    "    gpu_ids = ''\n",
    "    stage = 'F'\n",
    "    lambda_x = 1.0\n",
    "    lambda_y = 1.0\n",
    "    lrFGD = '1e-4'\n",
    "    batchSize = 4\n",
    "    widthSize = 32\n",
    "    heightSize = 32\n",
    "    input_nc = 3\n",
    "    output_nc = 2\n",
    "    nz = 100\n",
    "    use_dropout = True\n",
    "    ngf = 64\n",
    "    ndf = 64\n",
    "    noise = 'sphere'\n",
    "    n_layers_D = 3\n",
    "    display_winsize = 256\n",
    "    display_id = 1\n",
    "    port = 8097\n",
    "    no_html = False"
   ]
  },
  {
   "cell_type": "code",
   "execution_count": 4,
   "metadata": {
    "collapsed": true
   },
   "outputs": [],
   "source": [
    "re_eval_miou = re.compile(\"\\'Mean IoU\\': \\d+\\.\\d+\")\n",
    "re_eval_CE   = re.compile(\"average CE = \\d+\\.\\d+\")\n",
    "re_DG   = re.compile(\"D/G: \\d+\\.\\d+/\\d+\\.\\d+\")\n",
    "re_CE   = re.compile(\"P_CE/A_CE: \\d+\\.\\d+/\\d+\\.\\d+\")\n",
    "re_L1   = re.compile(\"P_L1/A_L1: \\d+\\.\\d+/\\d+\\.\\d+\")"
   ]
  },
  {
   "cell_type": "code",
   "execution_count": 5,
   "metadata": {},
   "outputs": [
    {
     "name": "stdout",
     "output_type": "stream",
     "text": [
      "[10, 11, 12, 13, 14]\n"
     ]
    }
   ],
   "source": [
    "valid_experiments = range(10,15)\n",
    "#invalid_experiments = [10, 14, 18, 22]\n",
    "invalid_experiments = []\n",
    "valid_experiments = [x for x in valid_experiments if x not in invalid_experiments]\n",
    "print(valid_experiments)"
   ]
  },
  {
   "cell_type": "code",
   "execution_count": 13,
   "metadata": {
    "collapsed": true
   },
   "outputs": [],
   "source": [
    "def load_log(name, stage_str, lrFGD, lb):\n",
    "    outfile = \"../logs/%s_%s_b%d/stage%s_lrFGD%s_lb%.3f.log\" \\\n",
    "              % (name, opt.dataset, opt.batchSize, stage_str, lrFGD, lb)\n",
    "    print(outfile)\n",
    "    #assert( os.path.exists(outfile) )\n",
    "    if not os.path.exists(outfile):\n",
    "        return [-9999]\n",
    "    with open(outfile, 'r') as log_f:\n",
    "        ious = re.findall(re_eval_miou, log_f.read())\n",
    "        ious = [float(iou.split(': ')[1]) for iou in ious]\n",
    "        return ious\n",
    "\n",
    "\n",
    "def load_max_over_lb(name, lrFGD, lambda_xs, stage_str):\n",
    "    all_ious = []\n",
    "    amax = -1\n",
    "    max_iou = -1\n",
    "\n",
    "    for j,lb in enumerate(lambda_xs):\n",
    "        ious = load_log(name, stage_str, lrFGD, lb)\n",
    "        all_ious.append(ious)\n",
    "        if max(ious) > max_iou:\n",
    "            max_iou = max(ious)\n",
    "            amax = j\n",
    "    #print('%s: max_iou = %f, amax = %d' % (name, max_iou, amax))\n",
    "    return all_ious[amax], amax\n",
    "\n",
    "\n",
    "def load_max_over_lr(name, lst_lrFGD, lb, stage_str):\n",
    "    all_ious = []\n",
    "    amax = -1\n",
    "    max_iou = -1\n",
    "\n",
    "    for j,lrFGD in enumerate(lst_lrFGD):\n",
    "        ious = load_log(name, stage_str, lrFGD, lb)\n",
    "        all_ious.append(ious)\n",
    "        if max(ious) > max_iou:\n",
    "            max_iou = max(ious)\n",
    "            amax = j\n",
    "    #print('%s: max_iou = %f, amax = %d' % (name, max_iou, amax))\n",
    "    return all_ious[amax], amax"
   ]
  },
  {
   "cell_type": "code",
   "execution_count": 16,
   "metadata": {
    "collapsed": true
   },
   "outputs": [
    {
     "name": "stdout",
     "output_type": "stream",
     "text": [
      "../logs/xyx_10_cityscapesAB_b4/stageF:2,G:0,D:0_lrFGD1.0e-02,1.0e-02,1.0e-02_lb1.000.log\n",
      "../logs/xyx_10_cityscapesAB_b4/stageF:2,G:0,D:0_lrFGD1.0e-03,1.0e-03,1.0e-03_lb1.000.log\n",
      "../logs/xyx_10_cityscapesAB_b4/stageF:2,G:0,D:0_lrFGD1.0e-04,1.0e-04,1.0e-04_lb1.000.log\n",
      "../logs/xyx_11_cityscapesAB_b4/stageF:2,G:0,D:0_lrFGD1.0e-02,1.0e-02,1.0e-02_lb1.000.log\n",
      "../logs/xyx_11_cityscapesAB_b4/stageF:2,G:0,D:0_lrFGD1.0e-03,1.0e-03,1.0e-03_lb1.000.log\n",
      "../logs/xyx_11_cityscapesAB_b4/stageF:2,G:0,D:0_lrFGD1.0e-04,1.0e-04,1.0e-04_lb1.000.log\n",
      "../logs/xyx_12_cityscapesAB_b4/stageF:2,G:0,D:0_lrFGD1.0e-02,1.0e-02,1.0e-02_lb1.000.log\n",
      "../logs/xyx_12_cityscapesAB_b4/stageF:2,G:0,D:0_lrFGD1.0e-03,1.0e-03,1.0e-03_lb1.000.log\n",
      "../logs/xyx_12_cityscapesAB_b4/stageF:2,G:0,D:0_lrFGD1.0e-04,1.0e-04,1.0e-04_lb1.000.log\n",
      "../logs/xyx_13_cityscapesAB_b4/stageF:2,G:0,D:0_lrFGD1.0e-02,1.0e-02,1.0e-02_lb1.000.log\n",
      "../logs/xyx_13_cityscapesAB_b4/stageF:2,G:0,D:0_lrFGD1.0e-03,1.0e-03,1.0e-03_lb1.000.log\n",
      "../logs/xyx_13_cityscapesAB_b4/stageF:2,G:0,D:0_lrFGD1.0e-04,1.0e-04,1.0e-04_lb1.000.log\n",
      "../logs/xyx_14_cityscapesAB_b4/stageF:2,G:0,D:0_lrFGD1.0e-02,1.0e-02,1.0e-02_lb1.000.log\n",
      "../logs/xyx_14_cityscapesAB_b4/stageF:2,G:0,D:0_lrFGD1.0e-03,1.0e-03,1.0e-03_lb1.000.log\n",
      "../logs/xyx_14_cityscapesAB_b4/stageF:2,G:0,D:0_lrFGD1.0e-04,1.0e-04,1.0e-04_lb1.000.log\n",
      "[[0.0042255  0.21698045 0.23702878 0.23693141 0.23604461 0.23795112\n",
      "  0.23833218 0.2377344  0.23954192 0.24003498 0.23759328]\n",
      " [0.00538916 0.23215501 0.23392876 0.23478332 0.23748937 0.23696154\n",
      "  0.2372632  0.236979   0.23656977 0.23952691 0.23945759]\n",
      " [0.00322186 0.23091392 0.22071674 0.23699979 0.23674186 0.23642987\n",
      "  0.235287   0.23862974 0.23760082 0.23883316 0.23732557]\n",
      " [0.01237193 0.23631355 0.23598535 0.23396907 0.23741914 0.23848248\n",
      "  0.23829319 0.23944586 0.2383722  0.23876424 0.23871719]\n",
      " [0.01237193 0.23631355 0.23598535 0.23396907 0.23741914 0.23848248\n",
      "  0.23829319 0.23944586 0.2383722  0.23876424 0.23871719]]\n"
     ]
    }
   ],
   "source": [
    "# stage F\n",
    "stage_str = 'F:2,G:0,D:0'\n",
    "lrs = [1e-2, 1e-3, 1e-4]\n",
    "lb = 1.0\n",
    "\n",
    "all_ious = []\n",
    "all_lr_F = [] # \n",
    "\n",
    "for j,i in enumerate(valid_experiments):\n",
    "    name = '%s_%d' % (opt.name, i)\n",
    "    lst_lrFGD = ['%.1e,%.1e,%.1e' % (lr,lr,lr) for lr in lrs]\n",
    "    ious,amax = load_max_over_lr(name, lst_lrFGD, lb, stage_str)\n",
    "    all_ious.append(ious)\n",
    "    all_lr_F.append(lrs[amax])\n",
    "\n",
    "F_ious = np.stack(all_ious, axis=0)\n",
    "print(F_ious)"
   ]
  },
  {
   "cell_type": "code",
   "execution_count": 17,
   "metadata": {
    "collapsed": true
   },
   "outputs": [],
   "source": [
    "# stage GD\n",
    "stage_str = 'F:1,G:2,D:2'\n",
    "lr_GD = 1e-4\n",
    "all_lr_GD = [lr_GD] * len(valid_experiments) #"
   ]
  },
  {
   "cell_type": "code",
   "execution_count": 50,
   "metadata": {
    "collapsed": true
   },
   "outputs": [],
   "source": [
    "# stage F2\n",
    "#stage_str = 'F:2,G:1,D:1'\n",
    "#lambda_xs = [100, 10, 1, 1e-1, 1e-2]\n",
    "\n",
    "#all_ious = []\n",
    "#all_lb = [] #\n",
    "\n",
    "#for j,i in enumerate(valid_experiments):\n",
    "#    name = '%s_%d' % (opt.name, i)\n",
    "#    lrFGD = '%.1e,%.1e,%.1e' % (all_lr_F[j],all_lr_GD[j],all_lr_GD[j])\n",
    "#    ious,amax = load_max_over_lb(name, lrFGD, lambda_xs, stage_str)\n",
    "#    all_ious.append(ious)\n",
    "#    all_lb.append(lambda_xs[amax])\n",
    "\n",
    "#F2_ious = np.stack(all_ious, axis=0)"
   ]
  },
  {
   "cell_type": "code",
   "execution_count": 39,
   "metadata": {},
   "outputs": [
    {
     "name": "stdout",
     "output_type": "stream",
     "text": [
      "../logs/xyx_10_cityscapesAB_b4/stageF:2,G:2,D:2_lrFGD1.0e-04,1.0e-02,1.0e-02_lb0.010.log\n",
      "../logs/xyx_11_cityscapesAB_b4/stageF:2,G:2,D:2_lrFGD1.0e-04,1.0e-02,1.0e-02_lb0.010.log\n",
      "../logs/xyx_12_cityscapesAB_b4/stageF:2,G:2,D:2_lrFGD1.0e-04,1.0e-02,1.0e-02_lb0.010.log\n",
      "../logs/xyx_13_cityscapesAB_b4/stageF:2,G:2,D:2_lrFGD1.0e-04,1.0e-02,1.0e-02_lb0.010.log\n",
      "../logs/xyx_14_cityscapesAB_b4/stageF:2,G:2,D:2_lrFGD1.0e-04,1.0e-02,1.0e-02_lb0.010.log\n"
     ]
    }
   ],
   "source": [
    "# stage FGD\n",
    "stage_str = 'F:2,G:2,D:2'\n",
    "all_ious = []\n",
    "max_len = 1000\n",
    "for j,i in enumerate(valid_experiments):\n",
    "    name = '%s_%d' % (opt.name, i)\n",
    "    #lb = all_lb[j]\n",
    "    lb = 1e-2\n",
    "    lr_F = all_lr_F[j]\n",
    "    lr_GD = all_lr_GD[j]\n",
    "    lrFGD = '%.1e,%.1e,%.1e' % (lr_F, lr_GD / lb, lr_GD / lb)\n",
    "    \n",
    "    ious = load_log(name, stage_str, lrFGD, lb)\n",
    "    all_ious.append(ious)\n",
    "    \n",
    "    if len(ious) <= max_len:\n",
    "        max_len = len(ious)\n",
    "\n",
    "#FGD_ious = np.stack(all_ious, axis=0)\n",
    "FGD_ious = [ii[:max_len] for ii in all_ious]"
   ]
  },
  {
   "cell_type": "code",
   "execution_count": 25,
   "metadata": {},
   "outputs": [],
   "source": [
    "color_map = dict(F=sns.xkcd_rgb[\"denim blue\"], F2=sns.xkcd_rgb[\"medium green\"], FGD=sns.xkcd_rgb[\"orange\"])"
   ]
  },
  {
   "cell_type": "code",
   "execution_count": 53,
   "metadata": {},
   "outputs": [
    {
     "name": "stderr",
     "output_type": "stream",
     "text": [
      "/home/hushell/anaconda3/lib/python3.6/site-packages/seaborn/timeseries.py:183: UserWarning: The tsplot function is deprecated and will be removed or replaced (in a substantially altered version) in a future release.\n",
      "  warnings.warn(msg, UserWarning)\n"
     ]
    },
    {
     "data": {
      "image/png": "[encoded data removed]",
      "text/plain": [
       "<matplotlib.figure.Figure at 0x7f5821032668>"
      ]
     },
     "metadata": {},
     "output_type": "display_data"
    }
   ],
   "source": [
    "# Comparison between stage F and stage FGD\n",
    "def plotter():\n",
    "    epochs1 = pd.Series([-1] + list(range(0, (max_len-1)*2, 2)), name=\"epoch\")\n",
    "    epochs2 = pd.Series([-1] + list(range(0, 100, 10)), name=\"epoch\")\n",
    "    sns.tsplot(data=F_ious, time=epochs2, condition=['F'], value='mIoU', color=color_map)\n",
    "    sns.tsplot(data=FGD_ious, time=epochs1, condition=['FGD'], value='mIoU', color=color_map)\n",
    "    plt.ylim(0.2, 0.25)\n",
    "    plt.xlim(-1, None)\n",
    "    plt.show()\n",
    "    \n",
    "plotter()"
   ]
  },
  {
   "cell_type": "code",
   "execution_count": null,
   "metadata": {
    "collapsed": true
   },
   "outputs": [],
   "source": []
  },
  {
   "cell_type": "code",
   "execution_count": null,
   "metadata": {
    "collapsed": true
   },
   "outputs": [],
   "source": []
  },
  {
   "cell_type": "code",
   "execution_count": null,
   "metadata": {
    "collapsed": true
   },
   "outputs": [],
   "source": []
  }
 ],
 "metadata": {
  "kernelspec": {
   "display_name": "Python 3",
   "language": "python",
   "name": "python3"
  },
  "language_info": {
   "codemirror_mode": {
    "name": "ipython",
    "version": 3
   },
   "file_extension": ".py",
   "mimetype": "text/x-python",
   "name": "python",
   "nbconvert_exporter": "python",
   "pygments_lexer": "ipython3",
   "version": "3.6.4"
  }
 },
 "nbformat": 4,
 "nbformat_minor": 2
}
